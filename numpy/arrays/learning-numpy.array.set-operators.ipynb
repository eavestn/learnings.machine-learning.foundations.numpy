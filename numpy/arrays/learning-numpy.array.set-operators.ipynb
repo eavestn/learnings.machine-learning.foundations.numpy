{
 "cells": [
  {
   "cell_type": "code",
   "execution_count": null,
   "id": "c38d1cc7-ef91-4696-b281-12994166d498",
   "metadata": {},
   "outputs": [],
   "source": [
    "import numpy as np"
   ]
  },
  {
   "cell_type": "code",
   "execution_count": 15,
   "id": "f9acb71b-1fc8-4116-8a52-55871ca380ab",
   "metadata": {},
   "outputs": [
    {
     "name": "stdout",
     "output_type": "stream",
     "text": [
      "[[ 0  1  2  3  4]\n",
      " [ 5  6  7  8  9]\n",
      " [10 11 12 13 14]\n",
      " [15 16 17 18 19]\n",
      " [20 21 22 23 24]]\n",
      "[0 1 2 3 4 5 6 7]\n",
      "[4 5 6 7 8 9]\n"
     ]
    }
   ],
   "source": [
    "working_array = np.arange(25).reshape(5, 5)\n",
    "\n",
    "print(working_array)\n",
    "\n",
    "# boolean indexing is a built in feature of ndarrays that allow us to interact with subsets of the array data based\n",
    "# upon a specified condition\n",
    "subset_1 = working_array[working_array <=7]\n",
    "\n",
    "print(subset_1)\n",
    "\n",
    "# we can get pretty sophisticated with these conditionals (it appears to be just as you would with a if-else statement)\n",
    "subset_2 = working_array[(working_array > 3) & (working_array < 10)]\n",
    "\n",
    "print(subset_2)"
   ]
  },
  {
   "cell_type": "code",
   "execution_count": null,
   "id": "8f0b704e-ca16-4131-9c51-bacde26c7619",
   "metadata": {},
   "outputs": [],
   "source": [
    "working_array_1 = np.array([1, 2, 3, 4, 5])\n",
    "working_array_2 = np.array([1, 6, 7, 8, 9])\n",
    "\n",
    "# we can also use numpy to perform comparisons between two collections\n",
    "subset_1 = np.intersect1d(working_array_1, working_array_2)\n",
    "subset_2 = np.setdiff1d(working_array_1, working_array_2)\n",
    "subset_3 = np.union1d(working_array_1, working_array_2)\n",
    "\n",
    "print(subset_1)\n",
    "print(subset_2)\n",
    "print(subset_3)"
   ]
  },
  {
   "cell_type": "code",
   "execution_count": null,
   "id": "f4e09384-9725-4fda-941b-e2dbdcdc2950",
   "metadata": {},
   "outputs": [],
   "source": [
    "working_array = np.random.randint(1, 11, size=(10,))\n",
    "\n",
    "# sorting working array using np.sort (\"function\") sorts the argument out of place - not modifying the original array.\n",
    "# if you look at the output, below, the original remains different from the result.\n",
    "subset_1 = np.sort(working_array)\n",
    "\n",
    "print(working_array)\n",
    "print(subset_1)\n",
    "\n",
    "# when sorted on the object, itself, as a method, notice the difference (not only is the array sorted in place, but a new\n",
    "# array instance is not returned, hence \"None\"\n",
    "subset_2 = working_array.sort()\n",
    "\n",
    "print(working_array)\n",
    "print(subset_2)\n",
    "\n",
    "# by supplying an axis=0/1 argument, we can also sort 2D arrays"
   ]
  }
 ],
 "metadata": {
  "kernelspec": {
   "display_name": "Python 3 (ipykernel)",
   "language": "python",
   "name": "python3"
  },
  "language_info": {
   "codemirror_mode": {
    "name": "ipython",
    "version": 3
   },
   "file_extension": ".py",
   "mimetype": "text/x-python",
   "name": "python",
   "nbconvert_exporter": "python",
   "pygments_lexer": "ipython3",
   "version": "3.9.12"
  }
 },
 "nbformat": 4,
 "nbformat_minor": 5
}
