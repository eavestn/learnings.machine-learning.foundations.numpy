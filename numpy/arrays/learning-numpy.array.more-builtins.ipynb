{
 "cells": [
  {
   "cell_type": "code",
   "execution_count": null,
   "id": "4e665e99-ce25-4c46-8eac-66579b7865b2",
   "metadata": {},
   "outputs": [],
   "source": [
    "import numpy as np\n",
    "\n",
    "# we can use built in functions to create a two-dimensional (rank 2) array with various shapes, supplied by arguments to built-in functions\n",
    "a = np.zeros((3, 2))\n",
    "b = np.ones((3, 2), dtype=\"int64\")\n",
    "\n",
    "print(a)\n",
    "print(b)"
   ]
  },
  {
   "cell_type": "code",
   "execution_count": null,
   "id": "43d3ac0d-d162-4701-b3fd-2ebd60f6c01a",
   "metadata": {},
   "outputs": [],
   "source": [
    "# additional methods open up the ability to supply the initial value of all elements\n",
    "c = np.full((2, 3), 5)\n",
    "\n",
    "print(c)"
   ]
  },
  {
   "cell_type": "code",
   "execution_count": null,
   "id": "0d7eeec0-dd05-440e-aa68-27e882a7da16",
   "metadata": {},
   "outputs": [],
   "source": [
    "# apparently, creating an identity matrix for linear algebra is a crit. move. numpy can do this for us.\n",
    "# a identity matrix is a matrix that spreads constant values across the its main diagonal and fills the rest\n",
    "# with a different constant value.\n",
    "d = np.eye(5)\n",
    "\n",
    "print(d)\n",
    "\n",
    "# we can also specify the values across the diagonal\n",
    "e = np.diag([10, 20, 30, 40, 50])\n",
    "\n",
    "print(e)"
   ]
  },
  {
   "cell_type": "code",
   "execution_count": null,
   "id": "64b947fc-af30-4cbc-937f-f1ab242eed48",
   "metadata": {},
   "outputs": [],
   "source": [
    "# arange: https://numpy.org/doc/stable/reference/generated/numpy.arange.html\n",
    "# returns a d-dimensional array with values spread at a user-supplied interval\n",
    "# numpy.arange([start, ]stop, [step, ]dtype=None)\n",
    "f = np.arange(0, 20, 5, dtype=\"float\")\n",
    "\n",
    "print(f)"
   ]
  },
  {
   "cell_type": "code",
   "execution_count": null,
   "id": "06d3e007-852e-468e-8f2c-c94d160fad57",
   "metadata": {},
   "outputs": [],
   "source": [
    "# linspace: https://numpy.org/doc/stable/reference/generated/numpy.linspace.html\n",
    "# numpy.linspace(start, stop, num=50, endpoint=True, retstep=False, dtype=None, axis=0)\n",
    "# returns a more-precise series of values spread at an even, function-determined interval. arange can do this, but will be inconsistent due to float math\n",
    "# we are also specifying something slightly different: the number of even-spaced values (third argument) we want between a start, stop. endpoint allows\n",
    "# us to exclude the final value.\n",
    "g = np.linspace(0, 20, 5, endpoint=\"true\")\n",
    "\n",
    "print(g)"
   ]
  },
  {
   "cell_type": "code",
   "execution_count": null,
   "id": "f0190cea-b1be-484e-87ac-44f7fad070b6",
   "metadata": {},
   "outputs": [],
   "source": [
    "# we can reshape an array into a newly-ranked array with numpy.reshape\n",
    "sub_h = np.linspace(0, 20, 20, endpoint=True, retstep=False, dtype=\"int64\")\n",
    "h = np.reshape(sub_h, (4, 5))\n",
    "\n",
    "print(sub_h)\n",
    "print(h)"
   ]
  },
  {
   "cell_type": "code",
   "execution_count": null,
   "id": "60ff1fc0-9408-4160-a9ce-6f130b518466",
   "metadata": {},
   "outputs": [],
   "source": []
  }
 ],
 "metadata": {
  "kernelspec": {
   "display_name": "Python 3 (ipykernel)",
   "language": "python",
   "name": "python3"
  },
  "language_info": {
   "codemirror_mode": {
    "name": "ipython",
    "version": 3
   },
   "file_extension": ".py",
   "mimetype": "text/x-python",
   "name": "python",
   "nbconvert_exporter": "python",
   "pygments_lexer": "ipython3",
   "version": "3.9.12"
  }
 },
 "nbformat": 4,
 "nbformat_minor": 5
}
