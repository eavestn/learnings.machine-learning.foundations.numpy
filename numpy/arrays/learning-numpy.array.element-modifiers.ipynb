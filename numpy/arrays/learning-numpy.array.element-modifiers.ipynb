{
 "cells": [
  {
   "cell_type": "code",
   "execution_count": null,
   "id": "6f3529d1-fb34-44af-a5a1-fa692e33b97f",
   "metadata": {},
   "outputs": [],
   "source": [
    "import numpy as np\n",
    "\n",
    "a = np.array([[1, 1, 1, 1], [1, 1, 1, 1], [1, 1, 1, 1], [1, 1, 1, 1]])\n",
    "\n",
    "print(a)\n",
    "\n",
    "a[1, 0] = 0\n",
    "\n",
    "print(a)"
   ]
  },
  {
   "cell_type": "code",
   "execution_count": null,
   "id": "37b7c28d-cf09-4a6d-be9d-9796fbe9357e",
   "metadata": {},
   "outputs": [],
   "source": [
    "b = np.linspace(0, 20, 10, endpoint=True, retstep=False, dtype=\"int64\")\n",
    "\n",
    "print(b)\n",
    "\n",
    "# delete elements from a flat array\n",
    "b = np.delete(b, [0])\n",
    "\n",
    "print(b)\n",
    "\n",
    "# more complex delete interactions with two-dimensional arrays\n",
    "# using .full for ease\n",
    "c = np.full((4, 4), 1)\n",
    "\n",
    "print(c)\n",
    "\n",
    "# this performs the removal of a speified (0; index) row (axis=0 === rows)\n",
    "c = np.delete(c, 0, axis=0)\n",
    "\n",
    "print(c)\n",
    "\n",
    "# this performs the removal of a speified (1; index) column (axis=1 === columns)\n",
    "c = np.delete(c, [1], axis=1)\n",
    "\n",
    "print(c)"
   ]
  },
  {
   "cell_type": "code",
   "execution_count": 33,
   "id": "d7d622fe-bdce-4b6e-8536-cadaf9734949",
   "metadata": {},
   "outputs": [
    {
     "name": "stdout",
     "output_type": "stream",
     "text": [
      "[[1 1 1 1]\n",
      " [1 1 1 1]\n",
      " [1 1 1 1]\n",
      " [1 1 1 1]]\n",
      "[[1 1 1 1]\n",
      " [1 1 1 1]\n",
      " [1 1 1 1]\n",
      " [1 1 1 1]\n",
      " [5 5 5 5]]\n",
      "[[1 1 1 1 6]\n",
      " [1 1 1 1 6]\n",
      " [1 1 1 1 6]\n",
      " [1 1 1 1 6]\n",
      " [5 5 5 5 6]]\n"
     ]
    }
   ],
   "source": [
    "d = np.full((4, 4), 1)\n",
    "\n",
    "print(d)\n",
    "\n",
    "# append a new row containig fives along the row (0) axis\n",
    "d = np.append(d, [[5, 5, 5, 5]], axis=0)\n",
    "\n",
    "print(d)\n",
    "\n",
    "# append a new column containing sixes along the column (1) axis\n",
    "d = np.append(d, [[6], [6], [6], [6], [6]], axis=1)\n",
    "\n",
    "print(d)"
   ]
  },
  {
   "cell_type": "code",
   "execution_count": null,
   "id": "7b8a764b-c568-49cd-8837-4a89a512b49e",
   "metadata": {},
   "outputs": [],
   "source": []
  }
 ],
 "metadata": {
  "kernelspec": {
   "display_name": "Python 3 (ipykernel)",
   "language": "python",
   "name": "python3"
  },
  "language_info": {
   "codemirror_mode": {
    "name": "ipython",
    "version": 3
   },
   "file_extension": ".py",
   "mimetype": "text/x-python",
   "name": "python",
   "nbconvert_exporter": "python",
   "pygments_lexer": "ipython3",
   "version": "3.9.12"
  }
 },
 "nbformat": 4,
 "nbformat_minor": 5
}
