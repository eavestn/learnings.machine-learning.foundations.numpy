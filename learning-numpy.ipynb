{
 "cells": [
  {
   "cell_type": "code",
   "execution_count": null,
   "id": "0eb5146f-c7a8-405e-98b9-12a7be95e632",
   "metadata": {},
   "outputs": [],
   "source": [
    "import numpy as np\n",
    "\n",
    "x = np.array([1, 2, 3, 4, 5])\n",
    "\n",
    "print(x)\n",
    "\n",
    "# built in python function returning the type of the variable\n",
    "print(type(x))\n",
    "\n",
    "# numpy .dtype property returning the type of the values stored in the array; remember that numpy stores\n",
    "# all values as the same type\n",
    "print(x.dtype)"
   ]
  },
  {
   "cell_type": "code",
   "execution_count": null,
   "id": "6e0d4491-38ea-4da3-a1b2-07c9d8e0c9c8",
   "metadata": {},
   "outputs": [],
   "source": [
    "y = np.array([[1, 2, 3], [1, 2, 3]])\n",
    "\n",
    "print(y)\n",
    "\n",
    "# the .shape property returns the _dimensions_ of the array; the \"dimensions\" being a tuple representing the number of rows, columns\n",
    "print(y.shape)\n",
    "\n",
    "# .size returns the number of elements contained within the array\n",
    "print(y.size)"
   ]
  },
  {
   "cell_type": "code",
   "execution_count": null,
   "id": "9af4332c-4f3e-4ff1-bf37-9592e0979337",
   "metadata": {},
   "outputs": [],
   "source": [
    "# numpy can \"upcast\" values to a particular type, matching the most complex type (this is an attempt to ensure precision is not lost\n",
    "# we can also specify which type values within the array should ultimately be stored as\n",
    "\n",
    "z = np.array([1.0, 2, 3, 4.1]);\n",
    "\n",
    "# this will print \"float64\"\n",
    "print(z.dtype)\n",
    "\n",
    "z = np.array([1.0, 2, 3, 4.1], dtype = np.int64);\n",
    "\n",
    "# this will print \"int64\" (and all values will be stored as truncated integers)\n",
    "print(z.dtype)"
   ]
  },
  {
   "cell_type": "code",
   "execution_count": 8,
   "id": "9010452f-f325-46c0-8634-5800ad6e208d",
   "metadata": {},
   "outputs": [],
   "source": [
    "a = np.array([1, 2, 3, 4, 5])\n",
    "\n",
    "# numpy is also capable of writing all its results to a single file stored in the local directory\n",
    "np.save('file_name', z)\n",
    "\n",
    "# we can also load from a directory into a variable\n",
    "a = np.load('file_name.npy')\n",
    "\n",
    "print(a)"
   ]
  },
  {
   "cell_type": "code",
   "execution_count": null,
   "id": "e0d4e91d-bc62-434e-a72d-681d865f0c50",
   "metadata": {},
   "outputs": [],
   "source": []
  }
 ],
 "metadata": {
  "kernelspec": {
   "display_name": "Python 3 (ipykernel)",
   "language": "python",
   "name": "python3"
  },
  "language_info": {
   "codemirror_mode": {
    "name": "ipython",
    "version": 3
   },
   "file_extension": ".py",
   "mimetype": "text/x-python",
   "name": "python",
   "nbconvert_exporter": "python",
   "pygments_lexer": "ipython3",
   "version": "3.9.12"
  }
 },
 "nbformat": 4,
 "nbformat_minor": 5
}
