{
 "cells": [
  {
   "cell_type": "code",
   "execution_count": 7,
   "id": "dcfb4ab0-ef83-4b68-8841-8ada1fe132b0",
   "metadata": {},
   "outputs": [
    {
     "name": "stdout",
     "output_type": "stream",
     "text": [
      "[1526   50]\n"
     ]
    }
   ],
   "source": [
    "import numpy as np\n",
    "\n",
    "# Matrix Multiplication\n",
    "# https://www.khanacademy.org/math/precalculus/x9e81a4f98389efdf:matrices/x9e81a4f98389efdf:multiplying-matrices-by-matrices/a/multiplying-matrices\n",
    "array_of_values_1 = np.array([[127, 128], [4, 5]])\n",
    "array_of_values_2 = np.array([10, 2])\n",
    "\n",
    "result = np.matmul(array_of_values_1, array_of_values_2)\n",
    "\n",
    "print(result)"
   ]
  },
  {
   "cell_type": "code",
   "execution_count": null,
   "id": "226a92d3-500d-454c-95a3-3d5c3a953267",
   "metadata": {},
   "outputs": [],
   "source": [
    "array_of_values_1 = np.array([[1, 7], [2, 4]])\n",
    "array_of_values_2 = np.array([[3, 3], [5, 2]])\n",
    "\n",
    "result = np.matmul(array_of_values_1, array_of_values_2)\n",
    "\n",
    "print(result)\n",
    "\n",
    "# Adding a real number to a matrix is - in real life - easy; the sum of the element at n-index and the real number becomes the new value\n",
    "# np.matmul assists with this through the following syntax (this could also be done on a single line)\n",
    "result = result + 2\n",
    "\n",
    "print(result)"
   ]
  }
 ],
 "metadata": {
  "kernelspec": {
   "display_name": "Python 3 (ipykernel)",
   "language": "python",
   "name": "python3"
  },
  "language_info": {
   "codemirror_mode": {
    "name": "ipython",
    "version": 3
   },
   "file_extension": ".py",
   "mimetype": "text/x-python",
   "name": "python",
   "nbconvert_exporter": "python",
   "pygments_lexer": "ipython3",
   "version": "3.9.12"
  }
 },
 "nbformat": 4,
 "nbformat_minor": 5
}
