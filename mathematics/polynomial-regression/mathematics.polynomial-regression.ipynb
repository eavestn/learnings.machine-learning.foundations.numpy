{
 "cells": [
  {
   "cell_type": "code",
   "execution_count": null,
   "id": "5bab6178-e359-45d2-9d12-6d0c2b9bf87d",
   "metadata": {},
   "outputs": [],
   "source": [
    "import numpy as np\n",
    "import pandas as pd\n",
    "\n",
    "from sklearn.linear_model import LinearRegression\n",
    "from sklearn.preprocessing import PolynomialFeatures\n",
    "\n",
    "train_data = pd.read_csv('polynomial_data.csv')\n",
    "\n",
    "x_plots = train_data['Var_X'].values.reshape(-1, 1)\n",
    "y_plots = train_data['Var_Y'].values\n",
    "\n",
    "# Create polynomial points\n",
    "poly_feat = PolynomialFeatures(degree = 4)\n",
    "x_poly    = poly_feat.fit_transform(x_plots)\n",
    "\n",
    "# Make and fit the polynomial regression model\n",
    "poly_model = LinearRegression(fit_intercept = False).fit(x_poly, y_plots)"
   ]
  }
 ],
 "metadata": {
  "kernelspec": {
   "display_name": "Python 3 (ipykernel)",
   "language": "python",
   "name": "python3"
  },
  "language_info": {
   "codemirror_mode": {
    "name": "ipython",
    "version": 3
   },
   "file_extension": ".py",
   "mimetype": "text/x-python",
   "name": "python",
   "nbconvert_exporter": "python",
   "pygments_lexer": "ipython3",
   "version": "3.9.12"
  }
 },
 "nbformat": 4,
 "nbformat_minor": 5
}
