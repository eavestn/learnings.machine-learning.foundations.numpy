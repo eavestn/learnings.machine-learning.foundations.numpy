{
 "cells": [
  {
   "cell_type": "code",
   "execution_count": 33,
   "id": "0aedc776-35d9-4a30-8914-e9449e59e379",
   "metadata": {},
   "outputs": [
    {
     "name": "stdout",
     "output_type": "stream",
     "text": [
      "                Country  Life expectancy       BMI\n",
      "0           Afghanistan             52.8  20.62058\n",
      "1               Albania             76.8  26.44657\n",
      "2               Algeria             75.5  24.59620\n",
      "3               Andorra             84.6  27.63048\n",
      "4                Angola             56.7  22.25083\n",
      "..                  ...              ...       ...\n",
      "158             Vanuatu             63.4  26.78926\n",
      "159  West Bank and Gaza             74.1  26.57750\n",
      "160             Vietnam             74.1  20.91630\n",
      "161              Zambia             51.1  20.68321\n",
      "162            Zimbabwe             47.3  22.02660\n",
      "\n",
      "[163 rows x 3 columns]\n",
      "60.115906559695816\n"
     ]
    }
   ],
   "source": [
    "import pandas\n",
    "import numpy as np\n",
    "from sklearn.linear_model import LinearRegression\n",
    "\n",
    "country_bmi_life_expectancy = pandas.read_csv('./bmi_and_life_expectancy.csv')\n",
    "\n",
    "print(country_bmi_life_expectancy)\n",
    "\n",
    "bmi_life_model              = LinearRegression()\n",
    "bmi_life_expectancy_model   = bmi_life_model.fit(country_bmi_life_expectancy[['BMI']].values, country_bmi_life_expectancy[['Life expectancy']].values)\n",
    "\n",
    "life_expectancy_at_bmi = bmi_life_expectancy_model.predict(np.array([21]).reshape(-1, 1))\n",
    "\n",
    "print(life_expectancy_at_bmi[0][0])"
   ]
  },
  {
   "cell_type": "code",
   "execution_count": null,
   "id": "73b95e28-1be4-428b-864a-aad1bbf2da95",
   "metadata": {},
   "outputs": [],
   "source": []
  }
 ],
 "metadata": {
  "kernelspec": {
   "display_name": "Python 3 (ipykernel)",
   "language": "python",
   "name": "python3"
  },
  "language_info": {
   "codemirror_mode": {
    "name": "ipython",
    "version": 3
   },
   "file_extension": ".py",
   "mimetype": "text/x-python",
   "name": "python",
   "nbconvert_exporter": "python",
   "pygments_lexer": "ipython3",
   "version": "3.9.12"
  }
 },
 "nbformat": 4,
 "nbformat_minor": 5
}
