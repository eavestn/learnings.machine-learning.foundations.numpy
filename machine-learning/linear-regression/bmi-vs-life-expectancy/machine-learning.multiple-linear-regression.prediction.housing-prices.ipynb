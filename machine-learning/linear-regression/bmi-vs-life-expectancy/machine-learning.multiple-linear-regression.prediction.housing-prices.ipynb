{
 "cells": [
  {
   "cell_type": "code",
   "execution_count": null,
   "id": "0183e085-2d99-4a3d-a9b3-ce04ca045986",
   "metadata": {},
   "outputs": [],
   "source": [
    "import numpy as np\n",
    "import pandas as pd\n",
    "\n",
    "from sklearn.linear_model import LinearRegression\n",
    "from sklearn.datasets import load_boston\n",
    "\n",
    "# The dataset consists of 13 features of 506 houses and the median home value in $1000's. \n",
    "# boston_housing_data = pd.read_json(load_boston()). apparently, this data set is \n",
    "# ethically problematic.\n",
    "#\n",
    "# >   The Boston housing prices dataset has an ethical problem. You can refer to\n",
    "# >   the documentation of this function for further details.\n",
    "sklearn_boston_data = load_boston()\n",
    "\n",
    "dataframe = pd.DataFrame(data=sklearn_boston_data.data, columns=sklearn_boston_data.feature_names)\n",
    "dataframe['target'] = pd.Series(sklearn_boston_data.target)\n",
    "\n",
    "print(dataframe)\n",
    "\n",
    "x = sklearn_boston_data['data']\n",
    "y = sklearn_boston_data['target']\n",
    "\n",
    "model = LinearRegression()\n",
    "model.fit(x, y)\n",
    "\n",
    "# Make a prediction using the model\n",
    "sample_house = [[2.29690000e-01, 0.00000000e+00, 1.05900000e+01, 0.00000000e+00, 4.89000000e-01,\n",
    "                6.32600000e+00, 5.25000000e+01, 4.35490000e+00, 4.00000000e+00, 2.77000000e+02,\n",
    "                1.86000000e+01, 3.94870000e+02, 1.09700000e+01]]\n",
    "\n",
    "# # TODO: Predict housing price for the sample_house\n",
    "prediction = model.predict(sample_house)\n",
    "\n",
    "print(prediction)"
   ]
  }
 ],
 "metadata": {
  "kernelspec": {
   "display_name": "Python 3 (ipykernel)",
   "language": "python",
   "name": "python3"
  },
  "language_info": {
   "codemirror_mode": {
    "name": "ipython",
    "version": 3
   },
   "file_extension": ".py",
   "mimetype": "text/x-python",
   "name": "python",
   "nbconvert_exporter": "python",
   "pygments_lexer": "ipython3",
   "version": "3.9.12"
  }
 },
 "nbformat": 4,
 "nbformat_minor": 5
}
